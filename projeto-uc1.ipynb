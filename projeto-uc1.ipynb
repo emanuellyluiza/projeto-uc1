{
  "nbformat": 4,
  "nbformat_minor": 0,
  "metadata": {
    "colab": {
      "provenance": []
    },
    "kernelspec": {
      "name": "python3",
      "display_name": "Python 3"
    },
    "language_info": {
      "name": "python"
    }
  },
  "cells": [
    {
      "cell_type": "code",
      "execution_count": null,
      "metadata": {
        "id": "jH5J4OxdK5Pr"
      },
      "outputs": [],
      "source": [
        "                   = (\"Boa noite!\")\n",
        "b= (\"seja bem vindo!\")\n",
        "c= (\"tenho o objetivo de criar uma senha segura\")\n",
        "print( a)\n",
        "print( b)\n",
        "print( c)\n",
        "\n",
        "c= int(input('digite o primeiro numero: '))\n",
        "d= input('digite um simbolo: ')\n",
        "e= int(input('digite o segundo numero: '))\n",
        "f= input('digite a primera letra maiuscula: ')\n",
        "g= input('digite a primera letra minuscula: ')\n",
        "h= input('digite a segunda letra minuscula: ')\n",
        "\n",
        "senha = str(c) + d + str(e) + f + g + h\n",
        "\n",
        "print(\"Sua senha segura é:\", senha)\n"
      ]
    },
    {
      "cell_type": "code",
      "source": [
        "a= (\"Boa noite!\")\n",
        "b= (\"seja bem vindo!\")\n",
        "c= (\"tenho o objetivo de criar uma senha segura\")\n",
        "print( a)\n",
        "print( b)\n",
        "print( c)\n",
        "\n",
        "c= int(input('digite o primeiro numero: '))\n",
        "d= input('digite um simbolo: ')\n",
        "e= int(input('digite o segundo numero: '))\n",
        "\n",
        "\n",
        "\n",
        "f= input('digite a primera letra maiuscula: ')\n",
        "g= input('digite a primera letra minuscula: ')\n",
        "h= input('digite a segunda letra minuscula: ')\n",
        "i= input('digite a segunda letra maiuscula: ')\n",
        "j= input('digite a')\n",
        "k=\n",
        "l=\n",
        "m=\n",
        "n=\n",
        "o=\n",
        "p=\n",
        "q=\n",
        "r=\n",
        "\n",
        "senha = str(c) + d + str(e) + f + g + h\n",
        "\n",
        "print(\"Sua senha segura é:\", senha)\n"
      ],
      "metadata": {
        "id": "OllrnPOiRRjf"
      },
      "execution_count": null,
      "outputs": []
    },
    {
      "cell_type": "code",
      "source": [
        "a= (\"Boa noite!\")\n",
        "b= (\"seja bem vindo!\")\n",
        "c= (\"tenho o objetivo de criar uma senha segura\")\n",
        "print( a)\n",
        "print( b)\n",
        "print( c)\n",
        "\n",
        "import random\n",
        "nome = input('Digite seu nome: ')\n",
        "cpf = str(random.randint('Digite seu CPF: '))\n",
        "data_nascimento = int(input('digite sua data de nascimento (DDMMAAAA): '))\n",
        "print(nome, cpf, data_nascimento)\n",
        "senha = (nome+cpf+data_nascimento)\n",
        "\n",
        "print(\"Sua senha segura é:\", senha)"
      ],
      "metadata": {
        "colab": {
          "base_uri": "https://localhost:8080/",
          "height": 314
        },
        "id": "BLBB1GLPvXIV",
        "outputId": "7315401b-7554-4e15-8fe7-f5ef3fc41840"
      },
      "execution_count": 7,
      "outputs": [
        {
          "name": "stdout",
          "output_type": "stream",
          "text": [
            "Boa noite!\n",
            "seja bem vindo!\n",
            "tenho o objetivo de criar uma senha segura\n",
            "Digite seu nome: mnvpç\n"
          ]
        },
        {
          "output_type": "error",
          "ename": "TypeError",
          "evalue": "ignored",
          "traceback": [
            "\u001b[0;31m---------------------------------------------------------------------------\u001b[0m",
            "\u001b[0;31mTypeError\u001b[0m                                 Traceback (most recent call last)",
            "\u001b[0;32m<ipython-input-7-5e1a26d083bc>\u001b[0m in \u001b[0;36m<cell line: 10>\u001b[0;34m()\u001b[0m\n\u001b[1;32m      8\u001b[0m \u001b[0;32mimport\u001b[0m \u001b[0mrandom\u001b[0m\u001b[0;34m\u001b[0m\u001b[0;34m\u001b[0m\u001b[0m\n\u001b[1;32m      9\u001b[0m \u001b[0mnome\u001b[0m \u001b[0;34m=\u001b[0m \u001b[0minput\u001b[0m\u001b[0;34m(\u001b[0m\u001b[0;34m'Digite seu nome: '\u001b[0m\u001b[0;34m)\u001b[0m\u001b[0;34m\u001b[0m\u001b[0;34m\u001b[0m\u001b[0m\n\u001b[0;32m---> 10\u001b[0;31m \u001b[0mcpf\u001b[0m \u001b[0;34m=\u001b[0m \u001b[0mstr\u001b[0m\u001b[0;34m(\u001b[0m\u001b[0mrandom\u001b[0m\u001b[0;34m(\u001b[0m\u001b[0;34m'Digite seu CPF: '\u001b[0m\u001b[0;34m)\u001b[0m\u001b[0;34m)\u001b[0m\u001b[0;34m\u001b[0m\u001b[0;34m\u001b[0m\u001b[0m\n\u001b[0m\u001b[1;32m     11\u001b[0m \u001b[0mdata_nascimento\u001b[0m \u001b[0;34m=\u001b[0m \u001b[0mint\u001b[0m\u001b[0;34m(\u001b[0m\u001b[0minput\u001b[0m\u001b[0;34m(\u001b[0m\u001b[0;34m'digite sua data de nascimento (DDMMAAAA): '\u001b[0m\u001b[0;34m)\u001b[0m\u001b[0;34m)\u001b[0m\u001b[0;34m\u001b[0m\u001b[0;34m\u001b[0m\u001b[0m\n\u001b[1;32m     12\u001b[0m \u001b[0mprint\u001b[0m\u001b[0;34m(\u001b[0m\u001b[0mnome\u001b[0m\u001b[0;34m,\u001b[0m \u001b[0mcpf\u001b[0m\u001b[0;34m,\u001b[0m \u001b[0mdata_nascimento\u001b[0m\u001b[0;34m)\u001b[0m\u001b[0;34m\u001b[0m\u001b[0;34m\u001b[0m\u001b[0m\n",
            "\u001b[0;31mTypeError\u001b[0m: 'module' object is not callable"
          ]
        }
      ]
    },
    {
      "cell_type": "code",
      "source": [
        "a= (\"Boa noite!\")\n",
        "b= (\"seja bem vindo!\")\n",
        "c= (\"tenho o objetivo de criar uma senha segura\")\n",
        "print( a)\n",
        "print( b)\n",
        "print( c)\n",
        "\n",
        "nome = input('Digite seu nome: ')\n",
        "cpf = input('Digite seu CPF (apenas números): ')\n",
        "cpf = cpf.zfill(11)\n",
        "data_nascimento = int(input('digite sua data de nascimento (DDMMAAAA): '))\n",
        "\n",
        "\n",
        "\n",
        "print(\"Sua senha segura é:\", senha)"
      ],
      "metadata": {
        "colab": {
          "base_uri": "https://localhost:8080/",
          "height": 140
        },
        "id": "y8aWhdbL2713",
        "outputId": "a4a8cdc5-4953-456d-f7f2-3c9c20de1148"
      },
      "execution_count": 16,
      "outputs": [
        {
          "output_type": "error",
          "ename": "IndentationError",
          "evalue": "ignored",
          "traceback": [
            "\u001b[0;36m  File \u001b[0;32m\"<ipython-input-16-d4d4674b3ad9>\"\u001b[0;36m, line \u001b[0;32m16\u001b[0m\n\u001b[0;31m    print(\"Sua senha segura é:\", senha)\u001b[0m\n\u001b[0m    ^\u001b[0m\n\u001b[0;31mIndentationError\u001b[0m\u001b[0;31m:\u001b[0m expected an indented block after 'if' statement on line 14\n"
          ]
        }
      ]
    },
    {
      "cell_type": "code",
      "source": [
        "nome = input('Digite seu nome: ')\n",
        "cpf = input('Digite seu CPF (apenas números): ')\n",
        "cpf = cpf.zfill(11)\n",
        "data_nascimento = input('Digite sua data de nascimento (DDMMAAAA): ')\n",
        "\n",
        "# Aqui você pode adicionar algum tipo de manipulação para gerar a senha de forma indireta\n",
        "senha = nome[:3] + str(int(cpf) % 1000) + data_nascimento[-2:]\n",
        "\n",
        "print(\"Sua senha é:\", senha)"
      ],
      "metadata": {
        "colab": {
          "base_uri": "https://localhost:8080/"
        },
        "id": "yzRiDfsB8Far",
        "outputId": "8ee0cca1-a499-4761-cac0-374341a88f4a"
      },
      "execution_count": 17,
      "outputs": [
        {
          "output_type": "stream",
          "name": "stdout",
          "text": [
            "Digite seu nome: manu[\n",
            "Digite seu CPF (apenas números): 12345678998\n",
            "Digite sua data de nascimento (DDMMAAAA): 20322222\n",
            "Sua senha é: man99822\n"
          ]
        }
      ]
    },
    {
      "cell_type": "code",
      "source": [
        "import random\n",
        "\n",
        "a = \"Boa noite!\"\n",
        "b = \"Seja bem vindo!\"\n",
        "c = \"Tenho o objetivo de criar uma senha segura.\"\n",
        "print(a)\n",
        "print(b)\n",
        "print(c)\n",
        "\n",
        "nome = input('Digite seu nome: ')\n",
        "cpf = input('Digite seu CPF (apenas números): ')\n",
        "cpf = cpf.zfill(11)\n",
        "letra_maiucusla = input('Digite uma letra maiuscula: ')\n",
        "data_nascimento = int(input('Digite sua data de nascimento (DDMMAAAA): '))\n",
        "caracteres_especiais = input('digite dois caracteres especiais:' )\n",
        "if len(cpf) == 11:\n",
        "\n",
        "    senha = nome[:3] + cpf[:7] + letra_maiucusla[:1] + str(data_nascimento)[:2] + caracteres_especiais[:2]\n",
        "    print(\"Sua senha é:\", senha)\n",
        "else:\n",
        "    print(\"CPF inválido. O CPF deve conter 11 dígitos.\")\n",
        "\n",
        "if len(str(data_nascimento)) == 8:\n",
        "    senha = nome[:3] + cpf[:7] + letra_maiucusla[:1] + str(data_nascimento)[:2] + caracteres_especiais[:2]\n",
        "    print(\"Sua senha é:\", senha)\n",
        "else:\n",
        "    print(\"Data de nascimento invalida. Nele deve conter 4 dígitos.\")"
      ],
      "metadata": {
        "colab": {
          "base_uri": "https://localhost:8080/"
        },
        "id": "xHPgqTpTDPGU",
        "outputId": "f0cad60f-3782-4b5a-9176-56e58e006695"
      },
      "execution_count": 28,
      "outputs": [
        {
          "output_type": "stream",
          "name": "stdout",
          "text": [
            "Boa noite!\n",
            "Seja bem vindo!\n",
            "Tenho o objetivo de criar uma senha segura.\n",
            "Digite seu nome: manu\n",
            "Digite seu CPF (apenas números): 12345678952\n",
            "Digite uma letra maiuscula: M\n",
            "Digite sua data de nascimento (DDMMAAAA): 12054789302\n",
            "digite dois caracteres especiais:#$\n",
            "Sua senha é: man1234567M12#$\n",
            "Data de nascimento invalida. Nele deve conter 4 dígitos.\n"
          ]
        }
      ]
    },
    {
      "cell_type": "code",
      "source": [
        "import random\n",
        "\n",
        "a = \"Boa noite!\"\n",
        "b = \"Seja bem vindo!\"\n",
        "c = \"Tenho o objetivo de criar uma senha segura.\"\n",
        "print(a)\n",
        "print(b)\n",
        "print(c)\n",
        "\n",
        "nome = input('Digite seu nome: ')\n",
        "cpf = input('Digite seu CPF (apenas números): ')\n",
        "cpf = cpf.zfill(11)\n",
        "data_nascimento = int(input('Digite sua data de nascimento (DDMMAAAA): '))\n",
        "caracteres_especiais= ('digite dois caracteres especiais' )\n",
        "if len(cpf) == 11:\n",
        "\n",
        "    senha = nome[:3] + cpf[-2:] + str(data_nascimento)[-2:]\n",
        "    print(\"Sua senha é:\", senha)\n",
        "else:\n",
        "    print(\"CPF inválido. O CPF deve conter 11 dígitos.\")"
      ],
      "metadata": {
        "id": "PwHUpRoiImGY"
      },
      "execution_count": null,
      "outputs": []
    },
    {
      "cell_type": "code",
      "source": [
        "import random\n",
        "\n",
        "a = \"Boa noite!\"\n",
        "b = \"Seja bem vindo!\"\n",
        "c = \"Tenho o objetivo de criar uma senha segura.\"\n",
        "print(a)\n",
        "print(b)\n",
        "print(c)\n",
        "\n",
        "nome = input('Digite seu nome: ')\n",
        "cpf = input('Digite seu CPF (apenas números): ')\n",
        "cpf = cpf.zfill(11)\n",
        "letra_maiucusla = input('Digite uma letra maiuscula: ')\n",
        "data_nascimento = int(input('Digite sua data de nascimento (DDMMAAAA): '))\n",
        "caracteres_especiais = input('digite dois caracteres especiais:' )\n",
        "if len(cpf) == 11:\n",
        "\n",
        "    senha = nome[:3] + cpf[:7] + letra_maiucusla[:1] + str(data_nascimento)[:2] + caracteres_especiais[:2]\n",
        "    print(\"Sua senha é:\", senha)\n",
        "else:\n",
        "    print(\"CPF inválido. O CPF deve conter 11 dígitos.\")\n",
        "\n",
        "if len(str(data_nascimento)) == 8:\n",
        "    senha = nome[:3] + cpf[:7] + letra_maiucusla[:1] + str(data_nascimento)[:2] + caracteres_especiais[:2]\n",
        "    print(\"Sua senha é:\", senha)\n",
        "else:\n",
        "    print(\"Data de nascimento invalida. Nele deve conter 4 dígitos.\")"
      ],
      "metadata": {
        "id": "6URfCFsLM2vz"
      },
      "execution_count": null,
      "outputs": []
    },
    {
      "cell_type": "code",
      "source": [],
      "metadata": {
        "id": "HAyQ5m8KM203"
      },
      "execution_count": null,
      "outputs": []
    }
  ]
}